{
 "cells": [
  {
   "cell_type": "code",
   "execution_count": 2,
   "metadata": {},
   "outputs": [
    {
     "name": "stdout",
     "output_type": "stream",
     "text": [
      "[array([[ 0,  0],\n",
      "       [ 0, 99],\n",
      "       [99, 99],\n",
      "       [99,  0]])]\n",
      "[[0, 0, 0, 99, 99, 99, 99, 0]]\n"
     ]
    }
   ],
   "source": [
    "import numpy as np\n",
    "from imantics import Polygons, Mask\n",
    "\n",
    "# This can be any array\n",
    "array = np.ones((100, 100))\n",
    "\n",
    "polygons = Mask(array).polygons()\n",
    "\n",
    "print(polygons.points)\n",
    "print(polygons.segmentation)"
   ]
  },
  {
   "cell_type": "code",
   "execution_count": null,
   "metadata": {},
   "outputs": [],
   "source": []
  }
 ],
 "metadata": {
  "kernelspec": {
   "display_name": "openmmlab",
   "language": "python",
   "name": "openmmlab"
  },
  "language_info": {
   "codemirror_mode": {
    "name": "ipython",
    "version": 3
   },
   "file_extension": ".py",
   "mimetype": "text/x-python",
   "name": "python",
   "nbconvert_exporter": "python",
   "pygments_lexer": "ipython3",
   "version": "3.8.13"
  }
 },
 "nbformat": 4,
 "nbformat_minor": 4
}
